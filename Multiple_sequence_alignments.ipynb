{
  "nbformat": 4,
  "nbformat_minor": 0,
  "metadata": {
    "kernelspec": {
      "display_name": "Python 2",
      "language": "python",
      "name": "python2"
    },
    "language_info": {
      "codemirror_mode": {
        "name": "ipython",
        "version": 3
      },
      "file_extension": ".py",
      "mimetype": "text/x-python",
      "name": "python",
      "nbconvert_exporter": "python",
      "pygments_lexer": "ipython3",
      "version": "3.8.5"
    },
    "colab": {
      "name": "Copy of hw2.ipynb",
      "provenance": [],
      "collapsed_sections": []
    }
  },
  "cells": [
    {
      "cell_type": "markdown",
      "metadata": {
        "id": "lp7tRZfFOZg6"
      },
      "source": [
        "# NOTE\n",
        "\n",
        "- Make a copy of this template before you start editing, and exported the file as a ipynb where you are done.\n",
        "\n",
        "- Before you turn this problem in, make sure everything runs as expected. First, **restart the kernel** (in the menubar, select Runtime$\\rightarrow$Factory reset runtime) and then **run all cells** (in the menubar, select Runtime$\\rightarrow$Run all).\n",
        "\n",
        "- Make sure you fill in any place that says `YOUR CODE HERE` or \"YOUR ANSWER HERE\". Fill out your name below in the `NAME` variable, leave the `COLLABORATORS` variable empty."
      ]
    },
    {
      "cell_type": "code",
      "metadata": {
        "id": "t4fnV9HOOZg8"
      },
      "source": [
        "NAME = \"Ritesh Reddy\"\n",
        "COLLABORATORS = \"\""
      ],
      "execution_count": 27,
      "outputs": []
    },
    {
      "cell_type": "markdown",
      "metadata": {
        "id": "GuYaB4NSOZhA"
      },
      "source": [
        "---"
      ]
    },
    {
      "cell_type": "markdown",
      "metadata": {
        "deletable": false,
        "editable": false,
        "nbgrader": {
          "cell_type": "markdown",
          "checksum": "3a1277b075c7688dff6778536b4e26b0",
          "grade": false,
          "grade_id": "cell-60e504978cd526fa",
          "locked": true,
          "schema_version": 3,
          "solution": false,
          "task": false
        },
        "id": "DWK-aQsGhKGK"
      },
      "source": [
        "Setup testing modules."
      ]
    },
    {
      "cell_type": "code",
      "metadata": {
        "deletable": false,
        "editable": false,
        "nbgrader": {
          "cell_type": "code",
          "checksum": "a44e2060f566753b2c3954c68efa18a4",
          "grade": false,
          "grade_id": "cell-edca78e7d51c3346",
          "locked": true,
          "schema_version": 3,
          "solution": false,
          "task": false
        },
        "id": "xaMGeOIzhKGL",
        "outputId": "ed845723-7654-4b52-c427-79ee383ad916",
        "colab": {
          "base_uri": "https://localhost:8080/",
          "height": 34
        }
      },
      "source": [
        "! pip install nose"
      ],
      "execution_count": 28,
      "outputs": [
        {
          "output_type": "stream",
          "text": [
            "Requirement already satisfied: nose in /usr/local/lib/python2.7/dist-packages (1.3.7)\n"
          ],
          "name": "stdout"
        }
      ]
    },
    {
      "cell_type": "code",
      "metadata": {
        "deletable": false,
        "editable": false,
        "nbgrader": {
          "cell_type": "code",
          "checksum": "8c37003e7cbb2cd19628bf7645df217d",
          "grade": false,
          "grade_id": "cell-c80599fec3a8ff55",
          "locked": true,
          "schema_version": 3,
          "solution": false,
          "task": false
        },
        "id": "F9ck1_xwhKGO"
      },
      "source": [
        "import nose.tools as nt\n",
        "\n",
        "\n",
        "def assert_dict_almost_equal(dict_1, dict_2):\n",
        "    nt.assert_equal(set(dict_1.keys()), set(dict_2.keys()))\n",
        "    for k in dict_1.keys():\n",
        "        for v_1, v_2 in zip(dict_1[k], dict_2[k]):\n",
        "            nt.assert_almost_equal(v_1, v_2)"
      ],
      "execution_count": 29,
      "outputs": []
    },
    {
      "cell_type": "markdown",
      "metadata": {
        "deletable": false,
        "editable": false,
        "nbgrader": {
          "cell_type": "markdown",
          "checksum": "a61cbfe0aa7e73f9ba7eef27fc0c6315",
          "grade": false,
          "grade_id": "cell-b39dfbdacddb8710",
          "locked": true,
          "schema_version": 3,
          "solution": false
        },
        "id": "kr-b4mXPhKGR"
      },
      "source": [
        "# Multiple Sequence Alignment\n",
        "\n",
        "We saw in lecture that a multiple sequence alignment M between $k$ strings $\\mathbf{v_1, ..., v_k}$ is a $k \\times q$ matrix, where $q=\\{\\max\\{|\\mathbf{v_i}|:i\\in [k]\\},...,\\Sigma_{i=1}^{k}|\\mathbf{v_i}|\\}$ such that the $i^{th}$ row contains the characters of $\\mathbf{v_i}$ in order with spaces '-' interspersed and no column cntains $k$ spaces. \n",
        "\n",
        "In this assignment, we will implement progressive multiple sequence alignment using the greedy algorithm. We will need to implement several parts:\n",
        "* Computing the profile representation of a multiple sequence alignment.\n",
        "* Aligning a single sequence to a profile\n",
        "* Aligning a profile to another profile\n",
        "* The greedy progressive alignment algoirthm"
      ]
    },
    {
      "cell_type": "markdown",
      "metadata": {
        "deletable": false,
        "editable": false,
        "nbgrader": {
          "cell_type": "markdown",
          "checksum": "e8076dcbbeebc91c5d577e419138871f",
          "grade": false,
          "grade_id": "cell-ba33d8762e558485",
          "locked": true,
          "schema_version": 3,
          "solution": false
        },
        "id": "HUfI50QAhKGS"
      },
      "source": [
        "## Part 1: Compute a profile - 10 points\n",
        "\n",
        "Given a multiple sequence alignment, we must compute its profile representation. Recall that a profile for a multiple sequence alignment of length $l$ in an alphabet $\\Sigma$ is a $(|\\Sigma| + 1) \\times l$ matrix, where $p_{i,j}$ is the frequency of the $i^{th}$ letter in the $j^{th}$ position of the alignment.\n",
        "\n",
        "Complete the `compute_profile` function defined below which takes a multiple sequence alignment and an alphabet and returns its profile representation."
      ]
    },
    {
      "cell_type": "code",
      "metadata": {
        "deletable": false,
        "nbgrader": {
          "cell_type": "code",
          "checksum": "e5025f9921fb90fa762204f977f97eb1",
          "grade": false,
          "grade_id": "cell-494cc3ef90b63ab3",
          "locked": false,
          "schema_version": 3,
          "solution": true
        },
        "id": "IWGdJnRQhKGS"
      },
      "source": [
        "def compute_profile(alignment, alphabet):\n",
        "    \"\"\"\n",
        "    Given an alphabet an a multiple sequence alignment in that alphabet,\n",
        "    computes and returns its profile representation\n",
        "    \n",
        "    :param: alignment is a list of lists of characters in the alphabet\n",
        "    :param: alphabet is a list of characters in the alphabet from which the strings are\n",
        "            constructed\n",
        "    :return: a dictionary where dict[x][i] is the frequency of the character\n",
        "             x in the i-th position of the alignment.\n",
        "    \"\"\"\n",
        "    \n",
        "    if not alignment:\n",
        "        return {}\n",
        "\n",
        "    n = len(alignment)\n",
        "    l = len(alignment[0])\n",
        "    \n",
        "    profile = {}\n",
        "    for i in alphabet:\n",
        "      profile[i] = []\n",
        "\n",
        "    alignments = []\n",
        "    for i in range(l):\n",
        "      alignment_string = ''\n",
        "      for j in range(n):\n",
        "        alignment_string += alignment[j][i]\n",
        "      alignments.append(alignment_string)\n",
        "\n",
        "    \n",
        "    for i in range(len(alignments)):\n",
        "      for key in profile.keys():\n",
        "        profile[key].append( float( alignments[i].count(key) ) / float( len(alignments[i]) ) )\n",
        "    # YOUR CODE HERE\n",
        "    # raise NotImplementedError()\n",
        "    \n",
        "    return profile\n",
        "\n",
        "alphabet = ['A', 'C', 'G', 'T', '-']\n",
        "test2_aln = ['-T', 'GT', 'G-','AT', 'GC']\n",
        "test2_soln = {'-': [0.2, 0.2], 'A': [0.2, 0.0], 'C': [0.0, 0.2], 'G': [0.6, 0.0],'T': [0.0, 0.6]}\n",
        "assert_dict_almost_equal(compute_profile(test2_aln, alphabet),test2_soln)"
      ],
      "execution_count": 30,
      "outputs": []
    },
    {
      "cell_type": "code",
      "metadata": {
        "id": "CZlERQD4hKGV"
      },
      "source": [
        "### Student tests (You may add more)\n",
        "alphabet = ['A', 'C', 'G', 'T', '-']\n",
        "\n",
        "# Test case 1\n",
        "test1_aln = ['A', 'T', 'C', 'G']\n",
        "test1_soln = {'-': [0.0], 'A': [0.25], 'C': [0.25], 'G': [0.25], 'T': [0.25]}\n",
        "\n",
        "# Test case 2\n",
        "test2_aln = ['-T', 'GT', 'G-','AT', 'GC']\n",
        "test2_soln = {'-': [0.2, 0.2], 'A': [0.2, 0.0], 'C': [0.0, 0.2], 'G': [0.6, 0.0],'T': [0.0, 0.6]}\n",
        "\n",
        "assert_dict_almost_equal(compute_profile(test1_aln, alphabet),test1_soln)\n",
        "assert_dict_almost_equal(compute_profile(test2_aln, alphabet),test2_soln)"
      ],
      "execution_count": 31,
      "outputs": []
    },
    {
      "cell_type": "code",
      "metadata": {
        "deletable": false,
        "editable": false,
        "nbgrader": {
          "cell_type": "code",
          "checksum": "0d2a9c570cc8d6c251dc165974ecdee6",
          "grade": true,
          "grade_id": "cell-9ab2e5e9c691781d",
          "locked": true,
          "points": 2.5,
          "schema_version": 3,
          "solution": false
        },
        "id": "HlIVtJ5jhKGY"
      },
      "source": [
        "# HIDDEN TEST CELL DO NOT MODIFY\n"
      ],
      "execution_count": 32,
      "outputs": []
    },
    {
      "cell_type": "code",
      "metadata": {
        "deletable": false,
        "editable": false,
        "nbgrader": {
          "cell_type": "code",
          "checksum": "79a37f03636ff8fbfd3e5b5ab7e8abd7",
          "grade": true,
          "grade_id": "cell-bface08330a79f42",
          "locked": true,
          "points": 2.5,
          "schema_version": 3,
          "solution": false
        },
        "id": "oLLMcnB-hKGb"
      },
      "source": [
        "# HIDDEN TEST CELL DO NOT MODIFY\n"
      ],
      "execution_count": 33,
      "outputs": []
    },
    {
      "cell_type": "code",
      "metadata": {
        "deletable": false,
        "editable": false,
        "nbgrader": {
          "cell_type": "code",
          "checksum": "cdfeb9cecd1fc3af043f54f4ecd76e83",
          "grade": true,
          "grade_id": "cell-b0a3e94f8067d87b",
          "locked": true,
          "points": 2.5,
          "schema_version": 3,
          "solution": false
        },
        "id": "awdJXxzNhKGe"
      },
      "source": [
        "# HIDDEN TEST CELL DO NOT MODIFY\n"
      ],
      "execution_count": 34,
      "outputs": []
    },
    {
      "cell_type": "code",
      "metadata": {
        "deletable": false,
        "editable": false,
        "nbgrader": {
          "cell_type": "code",
          "checksum": "d8162ac5ff5c48a084d60727e693c092",
          "grade": true,
          "grade_id": "cell-1b2b391108a8cc78",
          "locked": true,
          "points": 2.5,
          "schema_version": 3,
          "solution": false
        },
        "id": "IyLmK4b7hKGg"
      },
      "source": [
        "# HIDDEN TEST CELL DO NOT MODIFY\n"
      ],
      "execution_count": 35,
      "outputs": []
    },
    {
      "cell_type": "markdown",
      "metadata": {
        "id": "x8j7ZzqahKGi"
      },
      "source": [
        "## Part 2: Alignment with profiles - 10 points\n",
        "\n",
        "In order to do progressive alignment, we need to be able to align a sequence with an existing multiple sequence alignment, as well as be able to align two multiple alignments. To do this, we represent the multiple alignment as a profile, and align the single sequence against the profile or align two profiles.\n",
        "\n",
        "Recall from HW1 that we wrote functions to align two sequences. This function took a scoring function as an argument to aid in the comparison of various alignments. Similarly, we need a scoring function $\\mathbf{\\tau}$ that scores the alignment a character in our alphabet to a column of the profile.\n",
        "\n",
        "Complete the function `compute_tau` which takes a profile, a scoring function, and an alphabet, and returns the scoring function tau. "
      ]
    },
    {
      "cell_type": "code",
      "metadata": {
        "deletable": false,
        "nbgrader": {
          "cell_type": "code",
          "checksum": "b96bc9a2f697569f6857ee292cee0d7e",
          "grade": false,
          "grade_id": "cell-2bd5ba8b0ed9daa5",
          "locked": false,
          "schema_version": 3,
          "solution": true
        },
        "id": "cdEfptIQhKGj"
      },
      "source": [
        "def compute_tau(profile, alphabet, delta):\n",
        "    \"\"\"\n",
        "    Given a profile, an alphabet and a scoring function for that alphabet,\n",
        "    returns the scoring function for aligning a character in the alphabet\n",
        "    to a column in the profile\n",
        "    \n",
        "    :param: profile is the profile representation of the multiple sequence\n",
        "            we are aligning against\n",
        "    :param: alphabet is the alphabet of characters that compose our sequences\n",
        "    :param: delta is the scoring function between characters in our alphabet\n",
        "    \n",
        "    :return: The scoring function tau such that tau[x][i] is the score for aligning\n",
        "             character x with column i of the profile.\n",
        "    \"\"\"\n",
        "    tau = {}\n",
        "    for key, value in profile.items():\n",
        "      value = [0 for i in range(len(value))]\n",
        "      tau[key] = value\n",
        "\n",
        "    for key,value in tau.items():\n",
        "      for j in range(len(value)):\n",
        "        for prof_key in profile.keys():\n",
        "          tau[key][j] += profile[prof_key][j] * delta[key][prof_key]\n",
        "\n",
        "    # YOUR CODE HERE\n",
        "    # raise NotImplementedError()\n",
        "    return tau\n",
        "\n",
        "alphabet = ['A', 'C', 'G', 'T', '-']\n",
        "delta = {}\n",
        "for i in range(len(alphabet)):\n",
        "    delta[alphabet[i]] = {k : v for (k,v) \n",
        "                          in zip(alphabet, [1 if alphabet[i] == alphabet[j]  else -1 \n",
        "                                  for j in range(len(alphabet))]\n",
        "                         )}\n",
        "test2_aln = ['-T', 'GT', 'G-','AT', 'GC']\n",
        "test2_profile = compute_profile(test2_aln, alphabet)\n",
        "test2_soln = {'-': [-0.6, -0.6],\n",
        "              'A': [-0.6, -1.0],\n",
        "              'C': [-1.0, -0.6],\n",
        "              'G': [0.2, -1.0],\n",
        "              'T': [-1.0, 0.2]}\n",
        "assert_dict_almost_equal(compute_tau(test2_profile, alphabet, delta),test2_soln)"
      ],
      "execution_count": 36,
      "outputs": []
    },
    {
      "cell_type": "code",
      "metadata": {
        "id": "2SZZQwauhKGq"
      },
      "source": [
        "### Student tests (You may edit these)\n",
        "alphabet = ['A', 'C', 'G', 'T', '-']\n",
        "delta = {}\n",
        "for i in range(len(alphabet)):\n",
        "    delta[alphabet[i]] = {k : v for (k,v) \n",
        "                          in zip(alphabet, [1 if alphabet[i] == alphabet[j]  else -1 \n",
        "                                  for j in range(len(alphabet))]\n",
        "                         )}\n",
        "\n",
        "# Test case 1\n",
        "test1_aln = ['A', 'T', 'C', 'G']\n",
        "test1_profile = compute_profile(test1_aln, alphabet)\n",
        "test1_soln = {'-': [-1.0], 'A': [-0.5], 'C': [-0.5], 'G': [-0.5], 'T': [-0.5]}\n",
        "\n",
        "# Test case 2\n",
        "test2_aln = ['-T', 'GT', 'G-','AT', 'GC']\n",
        "test2_profile = compute_profile(test2_aln, alphabet)\n",
        "test2_soln = {'-': [-0.6, -0.6],\n",
        "              'A': [-0.6, -1.0],\n",
        "              'C': [-1.0, -0.6],\n",
        "              'G': [0.2, -1.0],\n",
        "              'T': [-1.0, 0.2]}\n",
        "\n",
        "assert_dict_almost_equal(compute_tau(test1_profile, alphabet, delta),test1_soln)\n",
        "assert_dict_almost_equal(compute_tau(test2_profile, alphabet, delta),test2_soln)"
      ],
      "execution_count": 37,
      "outputs": []
    },
    {
      "cell_type": "code",
      "metadata": {
        "deletable": false,
        "editable": false,
        "nbgrader": {
          "cell_type": "code",
          "checksum": "c8bfaaa228e559b4d46104ed23204405",
          "grade": true,
          "grade_id": "cell-742f040173c3ca58",
          "locked": true,
          "points": 2.5,
          "schema_version": 3,
          "solution": false
        },
        "id": "dYd9ele8hKG2"
      },
      "source": [
        "# HIDDEN TEST CELL DO NOT MODIFY\n"
      ],
      "execution_count": 38,
      "outputs": []
    },
    {
      "cell_type": "code",
      "metadata": {
        "deletable": false,
        "editable": false,
        "nbgrader": {
          "cell_type": "code",
          "checksum": "15c5705a27e8eb158d87dd47cb19faff",
          "grade": true,
          "grade_id": "cell-71f6fdbfd861982a",
          "locked": true,
          "points": 2.5,
          "schema_version": 3,
          "solution": false
        },
        "id": "rloxQvbKhKHA"
      },
      "source": [
        "# HIDDEN TEST CELL DO NOT MODIFY\n"
      ],
      "execution_count": 39,
      "outputs": []
    },
    {
      "cell_type": "code",
      "metadata": {
        "deletable": false,
        "editable": false,
        "nbgrader": {
          "cell_type": "code",
          "checksum": "52560bc1f3f5e4fb751afae8a81f670b",
          "grade": true,
          "grade_id": "cell-1c423816a2b8b432",
          "locked": true,
          "points": 2.5,
          "schema_version": 3,
          "solution": false
        },
        "id": "BT8avAEfhKHG"
      },
      "source": [
        "# HIDDEN TEST CELL DO NOT MODIFY\n"
      ],
      "execution_count": 40,
      "outputs": []
    },
    {
      "cell_type": "code",
      "metadata": {
        "deletable": false,
        "editable": false,
        "nbgrader": {
          "cell_type": "code",
          "checksum": "6610b9af0e8df260cc36a5980dc02803",
          "grade": true,
          "grade_id": "cell-e38336a7cf5e140a",
          "locked": true,
          "points": 2.5,
          "schema_version": 3,
          "solution": false
        },
        "id": "1u2sSEXzhKHK"
      },
      "source": [
        "# HIDDEN TEST CELL DO NOT MODIFY\n"
      ],
      "execution_count": 41,
      "outputs": []
    },
    {
      "cell_type": "markdown",
      "metadata": {
        "deletable": false,
        "editable": false,
        "nbgrader": {
          "cell_type": "markdown",
          "checksum": "bbdbd8eed47204d0fd4287d007962d42",
          "grade": false,
          "grade_id": "cell-656e07de91550069",
          "locked": true,
          "schema_version": 3,
          "solution": false
        },
        "id": "qKZQkz96hKHM"
      },
      "source": [
        "Below is the function that aligns a sequence to a profile using the above functions.\n",
        "\n",
        "`align_sequence_profile` takes a multiple sequence alignment, a new sequence, an alphabet, and a scoring function, and returns the progressively aligned multiple sequence alignment. ** This function is implemented for you. ** \n",
        "\n",
        "Just like in HW1, we will need to not only keep track of optimal alignment scores in a DP table,  but also keep track of the alignments themselves with back pointers.\n",
        "\n",
        "**Note : You do not need to write any code for this function**"
      ]
    },
    {
      "cell_type": "code",
      "metadata": {
        "deletable": false,
        "editable": false,
        "nbgrader": {
          "cell_type": "code",
          "checksum": "381088d67c0bd8f1a4b32274015386d1",
          "grade": false,
          "grade_id": "cell-e7325fb3849b13da",
          "locked": true,
          "schema_version": 3,
          "solution": false
        },
        "id": "-FFW5JdShKHN"
      },
      "source": [
        "UP = (-1, 0)\n",
        "LEFT = (0, -1)\n",
        "TOPLEFT = (-1, -1)\n",
        "\n",
        "def traceback(aln1, aln2, pointers):\n",
        "    i = len(aln1[0])\n",
        "    j = len(aln2[0])\n",
        "    new_al1 = [list(v) for v in aln1]\n",
        "    new_al2 = [list(w) for w in aln2]\n",
        "    while True:\n",
        "        di, dj = pointers[i][j]\n",
        "        if (di, dj) == LEFT:\n",
        "            for seq1 in new_al1:\n",
        "                seq1.insert(i, '-')\n",
        "        if (di, dj) == UP:\n",
        "            for seq2 in new_al2:\n",
        "                seq2.insert(j, '-')\n",
        "        i, j = i + di, j + dj\n",
        "        if (i <= 0 and j <= 0):\n",
        "            break\n",
        "    new_alignment = []\n",
        "    for seq in new_al1:\n",
        "        new_alignment.append(''.join(seq))\n",
        "    for seq in new_al2:\n",
        "        new_alignment.append(''.join(seq))\n",
        "    return new_alignment\n",
        "\n",
        "\n",
        "def align_sequence_profile(alignment, sequence, alphabet, delta):\n",
        "    \"\"\"\n",
        "    This function aligns a sequence against a multiple sequence alignment\n",
        "    \n",
        "    :param: alignment is the multiple sequence alignment are aligning against.\n",
        "            This is a list of list of characters\n",
        "    :param: sequence is the new sequence we are aligning to the multiple alignment.\n",
        "            This is a list of characters\n",
        "    :param: alphabet is a list of characters that could compose the sequences in\n",
        "            the alignments.\n",
        "    :param: delta is the scoring function for aligning characters in our alphabet.\n",
        "            delta[x][y] is the score for aligning the characters x and y.\n",
        "    \n",
        "    \n",
        "    :return: a list of lists of characters in the alphabet, representing the \n",
        "             new multiple sequence alignment\n",
        "    \"\"\"\n",
        "    # Base case when there is an empty multiple alignment\n",
        "    if not alignment:\n",
        "        return [sequence]\n",
        "    \n",
        "    M = [[0 for j in range(len(alignment[0])+1)] for i in range(len(alignment)+1)] \n",
        "    pointers = [[(0,0) for j in range(len(alignment[0])+1)] for i in range(len(alignment)+1)]\n",
        "    score = None\n",
        "    \n",
        "    profile = compute_profile(alignment, alphabet)\n",
        "    tau = compute_tao_sequence_profile(profile, alphabet, delta)\n",
        "\n",
        "    for i in range(len(sequence)+1):\n",
        "        for j in range(len(alignment[0])+1):\n",
        "            if i == 0 and j == 0:   \n",
        "                M[i][j] = 0\n",
        "            elif i == 0:\n",
        "                M[i][j] = M[i][j-1] + tau['-'][j-1]\n",
        "                pointers[i][j] = LEFT\n",
        "            elif j == 0:\n",
        "                M[i][j] = M[i-1][j] + delta[sequence[i-1]]['-']\n",
        "                pointers[i][j] = UP\n",
        "            else:\n",
        "                best_sub = max([(LEFT, M[i][j-1] + tau['-'][j-1]), \n",
        "                               (UP, M[i-1][j] + delta[v[i-1]]['-']), \n",
        "                               (TOPLEFT, M[i-1][j-1] + tau[sequence[i-1]][j-1])], key = lambda x: x[1])\n",
        "                pointers[i][j] = best_sub[0]\n",
        "                M[i][j] = best_sub[1]\n",
        "\n",
        "    score = M[-1][-1]\n",
        "    return score, traceback(sequence, alignment, pointers)"
      ],
      "execution_count": 42,
      "outputs": []
    },
    {
      "cell_type": "markdown",
      "metadata": {
        "deletable": false,
        "editable": false,
        "nbgrader": {
          "cell_type": "markdown",
          "checksum": "a8d37819d0f569473da013055080d959",
          "grade": false,
          "grade_id": "cell-e527ab661ceb1e1d",
          "locked": true,
          "schema_version": 3,
          "solution": false
        },
        "id": "EGT4WBoDhKHP"
      },
      "source": [
        "## Part 3: Align profile to profile - 20 points\n",
        "\n",
        "\n",
        "Now using the given example, let's write the function `align_profile_profile` which takes two multiple sequence alignments, an alphabet and the scoring function for that alphabet, and returns their optimal alignment score as well as the optimal alignment. This function is a bit more complicated than aligning a sequence to a profile. This is because we need 4 separate scoring functions.\n",
        "\n",
        "Given a profile $p$ for the first alignment, and a profile $q$ representing the second, and alphabet $\\Sigma$:\n",
        "\n",
        "* $\\delta(x,y)$ gives us the score for aligning character $x$ and character $y$.\n",
        "* $\\tau_1(x,i)$ gives us the score for aligning character $x$ at position $i$ in the first profile $p$.\n",
        "* $\\tau_2(y,j)$ gives us the score for aligning character $y$ at position $j$ in the second profile $q$.\n",
        "* $\\sigma(i,j)$ gives us the score for aligning the $i^{th}$ column of $p$ with the $j^{th}$ column of $q$.\n",
        "\n",
        "The scoring function $\\sigma$ can be computed as follows $$\\sigma(i,j) = \\underset{x\\in\\Sigma}{\\sum}\\underset{y\\in\\Sigma}{\\sum}p(x,i)q(y,j)\\delta(x,y)$$\n",
        "\n",
        "Once we have $\\sigma$, we can use it to come up with a recurrence for aligning two profiles. If $S[i,j]$ is the score for first $i$ columns of profile $p$ with the first $j$ columns of profile $j$, then we have:\n",
        "\n",
        "$$S[i,j] = max \\begin{cases}\n",
        "0 & \\text{$i=0$ and $j=0$}\\\\\n",
        "S[i-1,j] + \\tau_1(-,i),& i \\gt 0\\\\\n",
        "S[i,j-1] + \\tau_2(-,j),& j \\gt 0\\\\\n",
        "S[i-1,j-1] + \\sigma(i,j),& \\text{$i\\gt0$ and $j\\gt0$}\\\\\n",
        "\\end{cases}$$\n",
        "\n",
        "Given the recurrence, complete the following parts:\n",
        "* Finish the `compute_sigma` function which computes the scoring function for aligning columns of profile.\n",
        "* Complete the `align_profile_profile` function below using the given recurrence.\n",
        "\n",
        "For tie breaking in `align_profile_profile`, please follow the priority defined in `align_sequence_profile` (the given function): (LEFT, UP, TOPLEFT)."
      ]
    },
    {
      "cell_type": "code",
      "metadata": {
        "deletable": false,
        "nbgrader": {
          "cell_type": "code",
          "checksum": "d4f9a4854317838d99495e9814f181bd",
          "grade": false,
          "grade_id": "cell-b25217b137d7e2f8",
          "locked": false,
          "schema_version": 3,
          "solution": true
        },
        "id": "TKuY5lzuhKHQ"
      },
      "source": [
        "import numpy as np\n",
        "def compute_sigma(p,q,alphabet, delta):\n",
        "    \"\"\"\n",
        "    :param: p is the profile for the first multiple alignment\n",
        "    :param: q is the profile for the second multiple alignment\n",
        "    :param: alphabet is the list of all characters in our sequences\n",
        "    :param: delta is the scoring function for aligning characters in our alphabet\n",
        "    \n",
        "    :returns: a list of lists sigma such that sigma[i][j] is the score for aligning column\n",
        "              i of p with column j of q\n",
        "    \"\"\"\n",
        "    sigma = []\n",
        "    size_p = len(p[alphabet[0]])\n",
        "    size_q = len(q[alphabet[0]])\n",
        "    sigma = np.zeros((size_p, size_q))\n",
        "    \n",
        "    for i in range(size_p):\n",
        "      for j in range(size_q):\n",
        "        for x in p.keys():\n",
        "          for y in q.keys():\n",
        "            sigma[i,j] += p[x][i]*q[y][j]*delta[x][y]\n",
        "\n",
        "    sigma = np.ndarray.tolist(sigma)\n",
        "    # YOUR CODE HERE\n",
        "    # raise NotImplementedError()\n",
        "    return sigma\n",
        "\n",
        "alphabet = ['A', 'C', 'G', 'T', '-']\n",
        "delta = {}\n",
        "for i in range(len(alphabet)):\n",
        "    delta[alphabet[i]] = {k : v for (k,v) \n",
        "                          in zip(alphabet, [1 if alphabet[i] == alphabet[j]  else -1 \n",
        "                                  for j in range(len(alphabet))]\n",
        "                         )}\n",
        "\n",
        "# Test case 1\n",
        "test1_aln1 = ['ATG', 'TAC', 'C-C', 'G-T']\n",
        "test1_aln2 = ['G-A', 'T-C']\n",
        "test1_profile1 = compute_profile(test1_aln1, alphabet)\n",
        "test1_profile2 = compute_profile(test1_aln2, alphabet)\n",
        "test1_soln = [[-0.5, -1.0, -0.5], [-0.75, 0.0, -0.75], [-0.5, -1.0, -0.5]]\n",
        "\n",
        "nt.assert_almost_equal(compute_sigma(test1_profile1, test1_profile2, alphabet, delta),test1_soln)"
      ],
      "execution_count": 43,
      "outputs": []
    },
    {
      "cell_type": "code",
      "metadata": {
        "id": "e9PhzT3YhKHV"
      },
      "source": [
        "### Student tests (You may edit these)\n",
        "alphabet = ['A', 'C', 'G', 'T', '-']\n",
        "delta = {}\n",
        "for i in range(len(alphabet)):\n",
        "    delta[alphabet[i]] = {k : v for (k,v) \n",
        "                          in zip(alphabet, [1 if alphabet[i] == alphabet[j]  else -1 \n",
        "                                  for j in range(len(alphabet))]\n",
        "                         )}\n",
        "\n",
        "# Test case 1\n",
        "test1_aln1 = ['ATG', 'TAC', 'C-C', 'G-T']\n",
        "test1_aln2 = ['G-A', 'T-C']\n",
        "test1_profile1 = compute_profile(test1_aln1, alphabet)\n",
        "test1_profile2 = compute_profile(test1_aln2, alphabet)\n",
        "test1_soln = [[-0.5, -1.0, -0.5], [-0.75, 0.0, -0.75], [-0.5, -1.0, -0.5]]\n",
        "\n",
        "nt.assert_almost_equal(compute_sigma(test1_profile1, test1_profile2, alphabet, delta),test1_soln)"
      ],
      "execution_count": 44,
      "outputs": []
    },
    {
      "cell_type": "code",
      "metadata": {
        "deletable": false,
        "editable": false,
        "nbgrader": {
          "cell_type": "code",
          "checksum": "5165d1e0179d25a06dc1a34fe4dee250",
          "grade": true,
          "grade_id": "cell-03ac811839e9b71f",
          "locked": true,
          "points": 10,
          "schema_version": 3,
          "solution": false
        },
        "id": "R_fuJZwehKHX"
      },
      "source": [
        "# HIDDEN TEST CELL DO NOT MODIFY\n"
      ],
      "execution_count": 45,
      "outputs": []
    },
    {
      "cell_type": "code",
      "metadata": {
        "deletable": false,
        "nbgrader": {
          "cell_type": "code",
          "checksum": "5922efead959d8126be397e1b6222c5f",
          "grade": false,
          "grade_id": "cell-43697a5889361848",
          "locked": false,
          "schema_version": 3,
          "solution": true
        },
        "id": "wYrsbi-PhKHZ"
      },
      "source": [
        "UP = (-1, 0)\n",
        "LEFT = (0, -1)\n",
        "TOPLEFT = (-1, -1)\n",
        "\n",
        "def traceback(aln1, aln2, pointers):\n",
        "    i = len(aln1[0])\n",
        "    j = len(aln2[0])\n",
        "    new_al1 = [list(v) for v in aln1]\n",
        "    new_al2 = [list(w) for w in aln2]\n",
        "    while True:\n",
        "        di, dj = pointers[i][j]\n",
        "        if (di, dj) == LEFT:\n",
        "            for seq1 in new_al1:\n",
        "                seq1.insert(i, '-')\n",
        "        if (di, dj) == UP:\n",
        "            for seq2 in new_al2:\n",
        "                seq2.insert(j, '-')\n",
        "        i, j = i + di, j + dj\n",
        "        if (i <= 0 and j <= 0):\n",
        "            break\n",
        "    new_alignment = []\n",
        "    for seq in new_al1:\n",
        "        new_alignment.append(''.join(seq))\n",
        "    for seq in new_al2:\n",
        "        new_alignment.append(''.join(seq))\n",
        "    return new_alignment\n",
        "\n",
        "def align_profile_profile(aln1, aln2, alphabet, delta):\n",
        "    \"\"\"\n",
        "    :param: aln1 is a list of lists representing the first multiple alignment\n",
        "    :param: aln2 is a list of lists representing the second multiple alignment\n",
        "    :param: alphabet is the alphabet from which the sequences are derived\n",
        "    :param: delta is a scoring function. delta(x,y) gives us the score for aligning \n",
        "            character x with character y in our alphabet\n",
        "            \n",
        "    :returns: the optimal score and the optimal multiple alignment for the two input alignments.\n",
        "    \"\"\"\n",
        "    # Base case when there is an empty multiple alignment\n",
        "    if not aln1 and not aln2:\n",
        "        return []\n",
        "    elif not aln2:\n",
        "        return aln1\n",
        "    elif not aln1:\n",
        "        return aln2\n",
        "    \n",
        "    S = [[0 for j in range(len(aln2[0])+1)] for i in range(len(aln1[0])+1)] \n",
        "    pointers = [[(0,0) for j in range(len(aln2[0])+1)] for i in range(len(aln1[0])+1)]\n",
        "    score = None\n",
        "    \n",
        "    # Compute profiles and scoring functions here\n",
        "    p = compute_profile(aln1, alphabet)\n",
        "    q = compute_profile(aln2, alphabet)\n",
        "    tau1 = compute_tau(p, alphabet, delta)\n",
        "    tau2 = compute_tau(q, alphabet, delta)\n",
        "    sigma = compute_sigma(p,q,alphabet, delta)\n",
        "\n",
        "    for i in range(len(aln1[0])+1):\n",
        "        for j in range(len(aln2[0])+1):\n",
        "            if i == 0 and j == 0:   \n",
        "                S[i][j] = 0\n",
        "            elif i == 0:\n",
        "                S[i][j] = S[i][j-1] + tau2['-'][j-1]\n",
        "                pointers[i][j] = LEFT\n",
        "            elif j == 0:\n",
        "                S[i][j] = S[i-1][j] + tau1['-'][i-1]\n",
        "                pointers[i][j] = UP\n",
        "            else:\n",
        "                best_sub = max([(LEFT, S[i][j-1] + tau2['-'][j-1]), \n",
        "                               (UP, S[i-1][j] + tau1['-'][i-1]), \n",
        "                               (TOPLEFT, S[i-1][j-1] + sigma[i-1][j-1])], key = lambda x: x[1])\n",
        "                pointers[i][j] = best_sub[0]\n",
        "                S[i][j] = best_sub[1]\n",
        "\n",
        "    # YOUR CODE HERE\n",
        "    # raise NotImplementedError()\n",
        "    score = S[-1][-1]\n",
        "    return score, traceback(aln1, aln2, pointers)"
      ],
      "execution_count": 51,
      "outputs": []
    },
    {
      "cell_type": "code",
      "metadata": {
        "id": "wpqEVDGlhKHb"
      },
      "source": [
        "### Student tests (You may edit these)\n",
        "alphabet = ['A', 'C', 'G', 'T', '-']\n",
        "delta = {}\n",
        "for i in range(len(alphabet)):\n",
        "    delta[alphabet[i]] = {k : v for (k,v) \n",
        "                          in zip(alphabet, [1 if alphabet[i] == alphabet[j]  else -1 \n",
        "                                  for j in range(len(alphabet))]\n",
        "                         )}\n",
        "\n",
        "# Test cases\n",
        "nt.assert_almost_equal(align_profile_profile(['GTAGTAC'], ['TGTCAGC'], alphabet, delta),(1.0, ['GTAGT-A-C', '-T-GTCAGC']))"
      ],
      "execution_count": 52,
      "outputs": []
    },
    {
      "cell_type": "code",
      "metadata": {
        "deletable": false,
        "editable": false,
        "nbgrader": {
          "cell_type": "code",
          "checksum": "6165d629bf7ebea54afde5a36a1d267b",
          "grade": true,
          "grade_id": "cell-7334ee2bf28449fd",
          "locked": true,
          "points": 5,
          "schema_version": 3,
          "solution": false
        },
        "id": "9f-2C9_IhKHd"
      },
      "source": [
        "# HIDDEN TEST CELL DO NOT MODIFY\n"
      ],
      "execution_count": 48,
      "outputs": []
    },
    {
      "cell_type": "code",
      "metadata": {
        "deletable": false,
        "editable": false,
        "nbgrader": {
          "cell_type": "code",
          "checksum": "c4a5e25f91f88fb5c4d760a0a8b34a58",
          "grade": true,
          "grade_id": "cell-45fb64e79bb9baa1",
          "locked": true,
          "points": 5,
          "schema_version": 3,
          "solution": false,
          "task": false
        },
        "id": "WcFelPMShKHf"
      },
      "source": [
        "# HIDDEN TEST CELL DO NOT MODIFY\n"
      ],
      "execution_count": 49,
      "outputs": []
    },
    {
      "cell_type": "markdown",
      "metadata": {
        "id": "qqlbFTI3hKHi"
      },
      "source": [
        "# Part 4: Greedy Progressive Alignment - 10 points\n",
        "\n",
        "Finally, we will put all the pieces together into the function `greedy_progressive_align`. This function will take a list of sequences, an alphabet, and a scoring function $\\delta$ which scores the alignment for characters in our alphabet.\n",
        "\n",
        "We now state two important facts:\n",
        "* A sequence is simply a multiple sequence alignment of length 1\n",
        "* A sequence can also be represented as a profile. What is the implication of this?\n",
        "\n",
        "Let's go over the algorithm in a little more detail.\n",
        "\n",
        "Given a labelled or indexed list of sequences, an alphabet and a scoring function $\\delta$, \n",
        "\n",
        "1. First compute the score of pairwise alignment of all alignments in your list of sequences\n",
        "2. Now pick the maximum scoring alignment of alignments and combine it\n",
        "3. Repeat steps 1 and 2 until there is only 1 alignment in your input list\n",
        "\n",
        "Some of the function has been completed for you. You only need compute pairwise alignment scores, and keep track of the best score."
      ]
    },
    {
      "cell_type": "code",
      "metadata": {
        "deletable": false,
        "nbgrader": {
          "cell_type": "code",
          "checksum": "374de5d5aa6930e61b214ac081e2b756",
          "grade": false,
          "grade_id": "cell-5bb8be62f15d2d5e",
          "locked": false,
          "schema_version": 3,
          "solution": true
        },
        "id": "U1Ii7TYNhKHi"
      },
      "source": [
        "def greedy_progressive_align(alignments, alphabet, delta):\n",
        "    \"\"\"\n",
        "    :param: alignments is a list of list of strings representing the sequences to be aligned\n",
        "            Note: This is because we need to represent our single sequences as multiple alignments\n",
        "            ,and multiple alignments are lists of strings\n",
        "    :param: alphabet is the alphabet from which the sequences are derived\n",
        "    :param: delta is a scoring function. delta(x,y) gives us the score for aligning \n",
        "            character x with character y in our alphabet\n",
        "            \n",
        "    :returns: the greedy optimal multiple sequence alignment for a given set of sequences, and the score for that alignment\n",
        "    \"\"\"\n",
        "    \n",
        "    \n",
        "    while True: \n",
        "        # Base case (When to exit the loop?)\n",
        "        # YOUR CODE HERE\n",
        "        if(len(alignments) == 1):\n",
        "          return best_score, best_alignment\n",
        "        # raise NotImplementedError()\n",
        "        \n",
        "        # Data structures for this iteration\n",
        "        best_score = -float(\"inf\")\n",
        "        best_alignment = None\n",
        "        best_m = -1\n",
        "        best_n = -1\n",
        "\n",
        "        # Compute pairwise distances \n",
        "        for m in range(len(alignments)):\n",
        "            for n in range(m):\n",
        "              if m != n:\n",
        "                profile_score = align_profile_profile(alignments[m], alignments[n], alphabet, delta)[0]\n",
        "                if profile_score >= best_score:\n",
        "                  best_score = profile_score\n",
        "                  best_alignment = align_profile_profile(alignments[m], alignments[n], alphabet, delta)[1]\n",
        "                  best_m = m\n",
        "                  best_n = n\n",
        "                else:\n",
        "                  continue\n",
        "              else:\n",
        "                continue\n",
        "\n",
        "                # YOUR CODE HERE\n",
        "                # raise NotImplementedError()\n",
        "\n",
        "        # Populate the list of alignments to use for the next iteration\n",
        "        next_alignments = [best_alignment]\n",
        "        for i in range(len(alignments)):\n",
        "            if i!=best_m and i!=best_n:\n",
        "                next_alignments.append(alignments[i])\n",
        "        alignments = next_alignments   "
      ],
      "execution_count": 67,
      "outputs": []
    },
    {
      "cell_type": "code",
      "metadata": {
        "id": "W75a28ElhKHm"
      },
      "source": [
        "# Student test case (You may add more)\n",
        "\n",
        "alphabet = ['A', 'C', 'G', 'T', '-']\n",
        "delta = {}\n",
        "for i in range(len(alphabet)):\n",
        "    delta[alphabet[i]] = {k : v for (k,v) \n",
        "                          in zip(alphabet, [1 if alphabet[i] == alphabet[j]  else -1 \n",
        "                                  for j in range(len(alphabet))]\n",
        "                         )}\n",
        "# Test case\n",
        "test1_seqs = [['A'],['C'],['T'],['G']]\n",
        "nt.assert_almost_equal(greedy_progressive_align(test1_seqs, alphabet, delta),\n",
        "             (-1,['G', 'T', 'C', 'A']))"
      ],
      "execution_count": 68,
      "outputs": []
    },
    {
      "cell_type": "code",
      "metadata": {
        "deletable": false,
        "editable": false,
        "nbgrader": {
          "cell_type": "code",
          "checksum": "e62772138770c55a76cacdf1144ee1d3",
          "grade": true,
          "grade_id": "cell-fcd3567ced021d0c",
          "locked": true,
          "points": 5,
          "schema_version": 3,
          "solution": false
        },
        "id": "v7y109WGhKHp"
      },
      "source": [
        "# HIDDEN TEST CELL DO NOT MODIFY\n"
      ],
      "execution_count": 65,
      "outputs": []
    },
    {
      "cell_type": "code",
      "metadata": {
        "deletable": false,
        "editable": false,
        "nbgrader": {
          "cell_type": "code",
          "checksum": "f1ce827bdbde89ffef7de72502846c66",
          "grade": true,
          "grade_id": "cell-7d767d3e47e7c97e",
          "locked": true,
          "points": 5,
          "schema_version": 3,
          "solution": false,
          "task": false
        },
        "id": "52A7U9k7hKHr"
      },
      "source": [
        "# HIDDEN TEST CELL DO NOT MODIFY\n"
      ],
      "execution_count": 66,
      "outputs": []
    },
    {
      "cell_type": "code",
      "metadata": {
        "id": "A_6l04bWUnoF"
      },
      "source": [
        ""
      ],
      "execution_count": 66,
      "outputs": []
    }
  ]
}