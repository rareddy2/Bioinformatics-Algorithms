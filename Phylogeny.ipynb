{
  "nbformat": 4,
  "nbformat_minor": 0,
  "metadata": {
    "kernelspec": {
      "display_name": "Python 3",
      "language": "python",
      "name": "python3"
    },
    "language_info": {
      "codemirror_mode": {
        "name": "ipython",
        "version": 3
      },
      "file_extension": ".py",
      "mimetype": "text/x-python",
      "name": "python",
      "nbconvert_exporter": "python",
      "pygments_lexer": "ipython3",
      "version": "3.8.5"
    },
    "colab": {
      "name": "hw3.ipynb",
      "provenance": []
    }
  },
  "cells": [
    {
      "cell_type": "markdown",
      "metadata": {
        "id": "lp7tRZfFOZg6"
      },
      "source": [
        "# NOTE\n",
        "\n",
        "- Make a copy of this template before you start editing, and exported the file as a ipynb where you are done.\n",
        "\n",
        "- Before you turn this problem in, make sure everything runs as expected. First, **restart the kernel** (in the menubar, select Runtime$\\rightarrow$Factory reset runtime) and then **run all cells** (in the menubar, select Runtime$\\rightarrow$Run all).\n",
        "\n",
        "- Make sure you fill in any place that says `YOUR CODE HERE` or \"YOUR ANSWER HERE\". Fill out your name below in the `NAME` variable, leave the `COLLABORATORS` variable empty."
      ]
    },
    {
      "cell_type": "code",
      "metadata": {
        "id": "t4fnV9HOOZg8"
      },
      "source": [
        "NAME = \"Ritesh Reddy\"\n",
        "COLLABORATORS = \"\""
      ],
      "execution_count": 5,
      "outputs": []
    },
    {
      "cell_type": "markdown",
      "metadata": {
        "id": "GuYaB4NSOZhA"
      },
      "source": [
        "---"
      ]
    },
    {
      "cell_type": "markdown",
      "metadata": {
        "deletable": false,
        "editable": false,
        "nbgrader": {
          "cell_type": "markdown",
          "checksum": "6131dcc102c795d86187e0fc2ff9509e",
          "grade": false,
          "grade_id": "cell-7b4afead5a72fe5b",
          "locked": true,
          "schema_version": 3,
          "solution": false
        },
        "id": "EwFEmhIRizKD"
      },
      "source": [
        "# Assignment 3 - Phylogeny\n",
        "\n",
        "This assignment will focus on phylogeny, particularly the reconstruction of phylogenetic trees given sequence information. There are 3 parts to this assignment. They will total to 50 points for this homework."
      ]
    },
    {
      "cell_type": "code",
      "metadata": {
        "deletable": false,
        "editable": false,
        "nbgrader": {
          "cell_type": "code",
          "checksum": "608ccff30e9c0d417ed3f54a1aa7a39d",
          "grade": false,
          "grade_id": "cell-8ab558c1950e3dd0",
          "locked": true,
          "schema_version": 3,
          "solution": false,
          "task": false
        },
        "id": "RBXTg6QZizKH",
        "outputId": "f8e21b5a-b179-4284-b2a1-c2816be5fcdc",
        "colab": {
          "base_uri": "https://localhost:8080/"
        }
      },
      "source": [
        "# Setup dependencies\n",
        "\n",
        "! pip install nose\n",
        "\n",
        "import nose.tools as nt\n",
        "import copy"
      ],
      "execution_count": 6,
      "outputs": [
        {
          "output_type": "stream",
          "text": [
            "Collecting nose\n",
            "\u001b[?25l  Downloading https://files.pythonhosted.org/packages/15/d8/dd071918c040f50fa1cf80da16423af51ff8ce4a0f2399b7bf8de45ac3d9/nose-1.3.7-py3-none-any.whl (154kB)\n",
            "\r\u001b[K     |██▏                             | 10kB 17.5MB/s eta 0:00:01\r\u001b[K     |████▎                           | 20kB 2.8MB/s eta 0:00:01\r\u001b[K     |██████▍                         | 30kB 3.9MB/s eta 0:00:01\r\u001b[K     |████████▌                       | 40kB 4.2MB/s eta 0:00:01\r\u001b[K     |██████████▋                     | 51kB 3.3MB/s eta 0:00:01\r\u001b[K     |████████████▊                   | 61kB 3.7MB/s eta 0:00:01\r\u001b[K     |██████████████▉                 | 71kB 3.9MB/s eta 0:00:01\r\u001b[K     |█████████████████               | 81kB 4.2MB/s eta 0:00:01\r\u001b[K     |███████████████████             | 92kB 4.3MB/s eta 0:00:01\r\u001b[K     |█████████████████████▏          | 102kB 4.2MB/s eta 0:00:01\r\u001b[K     |███████████████████████▎        | 112kB 4.2MB/s eta 0:00:01\r\u001b[K     |█████████████████████████▍      | 122kB 4.2MB/s eta 0:00:01\r\u001b[K     |███████████████████████████▌    | 133kB 4.2MB/s eta 0:00:01\r\u001b[K     |█████████████████████████████▋  | 143kB 4.2MB/s eta 0:00:01\r\u001b[K     |███████████████████████████████▊| 153kB 4.2MB/s eta 0:00:01\r\u001b[K     |████████████████████████████████| 163kB 4.2MB/s \n",
            "\u001b[?25hInstalling collected packages: nose\n",
            "Successfully installed nose-1.3.7\n"
          ],
          "name": "stdout"
        }
      ]
    },
    {
      "cell_type": "markdown",
      "metadata": {
        "deletable": false,
        "editable": false,
        "nbgrader": {
          "cell_type": "markdown",
          "checksum": "a95410778b63391246d06153eeb54951",
          "grade": false,
          "grade_id": "cell-780bb39241d69ec6",
          "locked": true,
          "schema_version": 3,
          "solution": false
        },
        "id": "XK4V3RXaizKi"
      },
      "source": [
        "## Part 1 - The Four Point Condition - 10 points\n",
        "\n",
        "We know that a given square distance matrix is additive if and only if the four point condition holds for every leaf quartet $i,j,k,$ and $l$. For your convenience the Four Point condition is shown below. $$d_{i,j} + d_{k,l} \\leq d_{i,k} + d_{j,l} = d_{i,l} + d_{j,k}$$\n",
        "\n",
        "Complete the function `is_additive`, that takes an $n\\times n$ matrix $D$ and returns `True` if and only if D is additive."
      ]
    },
    {
      "cell_type": "code",
      "metadata": {
        "deletable": false,
        "nbgrader": {
          "cell_type": "code",
          "checksum": "02d40b4aa7cc80fa70a6953dbfc02808",
          "grade": false,
          "grade_id": "cell-8dbf2b712366c1c4",
          "locked": false,
          "schema_version": 3,
          "solution": true
        },
        "id": "m8ihqpAAizKj"
      },
      "source": [
        "from itertools import permutations\n",
        "def is_additive(D):\n",
        "    \"\"\"\n",
        "    Returns true if the square matrix D is additive\n",
        "    \n",
        "    :param: D is an nxn list of lists of ints \n",
        "    :return: true if D is an additive distance matrix\n",
        "    \"\"\"\n",
        "    n = len(D)\n",
        "\n",
        "    for i in range(n):\n",
        "      for j in range(i):\n",
        "        for k in range(j):\n",
        "          for l in range(k):\n",
        "            if D[i][j] + D[k][l] <= D[i][k] + D[j][l] and D[i][k] + D[j][l] == D[i][l] + D[j][k]:\n",
        "              continue\n",
        "            else: return False\n",
        "\n",
        "    # YOUR CODE HERE\n",
        "    # raise NotImplementedError()\n",
        "    return True"
      ],
      "execution_count": 7,
      "outputs": []
    },
    {
      "cell_type": "code",
      "metadata": {
        "deletable": false,
        "editable": false,
        "nbgrader": {
          "cell_type": "code",
          "checksum": "33685fcb3f74a12410cd3e86627740dc",
          "grade": false,
          "grade_id": "cell-0585fd6ff11f1154",
          "locked": true,
          "schema_version": 3,
          "solution": false,
          "task": false
        },
        "id": "j4kVaMuVizKx"
      },
      "source": [
        "### Student tests (You may add more)\n",
        "\n",
        "D0 = [\n",
        "    [0, 6, 13, 14],\n",
        "    [6, 0, 15, 16],\n",
        "    [13, 15, 0, 5],\n",
        "    [14, 16, 5, 0]\n",
        "]\n",
        "\n",
        "D1 = [0. , 0.5, 3.1, 1.5, 1.6],\n",
        "[0.5, 0. , 3.4, 1.7, 1.8],\n",
        "[3.1, 3.4, 0. , 2.4, 2.5],\n",
        "[1.5, 1.7, 2.4, 0. , 0.5],\n",
        "[1.6, 1.8, 2.5, 0.5, 0. ]\n",
        "\n",
        "nt.assert_true(is_additive(D0))\n",
        "nt.assert_true(is_additive(D1))"
      ],
      "execution_count": 8,
      "outputs": []
    },
    {
      "cell_type": "code",
      "metadata": {
        "deletable": false,
        "editable": false,
        "nbgrader": {
          "cell_type": "code",
          "checksum": "cce08ba2da40a1158c8424f8cbbbc823",
          "grade": true,
          "grade_id": "cell-482dbbb58f32ed0a",
          "locked": true,
          "points": 5,
          "schema_version": 3,
          "solution": false,
          "task": false
        },
        "id": "9oP2-qgRizK1"
      },
      "source": [
        "# HIDDEN TEST CELL DO NOT MODIFY\n"
      ],
      "execution_count": 9,
      "outputs": []
    },
    {
      "cell_type": "code",
      "metadata": {
        "deletable": false,
        "editable": false,
        "nbgrader": {
          "cell_type": "code",
          "checksum": "53a48b4aa0c5698c9c1097fa268f4ed5",
          "grade": true,
          "grade_id": "cell-15499b55bdcb1c2b",
          "locked": true,
          "points": 5,
          "schema_version": 3,
          "solution": false
        },
        "id": "fKGVKm0IizLM"
      },
      "source": [
        "# HIDDEN TEST CELL DO NOT MODIFY\n"
      ],
      "execution_count": 10,
      "outputs": []
    },
    {
      "cell_type": "markdown",
      "metadata": {
        "deletable": false,
        "editable": false,
        "nbgrader": {
          "cell_type": "markdown",
          "checksum": "e052e2f809f7bf68cf2523cb950e6b44",
          "grade": false,
          "grade_id": "cell-94e485bb1a32d2c9",
          "locked": true,
          "schema_version": 3,
          "solution": false
        },
        "id": "qtP0RE7AizLT"
      },
      "source": [
        "## Part 2 - Neighbor Joining - 20 points\n",
        "\n",
        "Recall that the neighbor joining algorithm is an approach to solving the Large Additive Distance phylogeny problem:\n",
        "\n",
        "Given $n\\times n$ matrix $D = [d_{ij}]$, find tree $T$ with $n$ leaves and edge weights such that $\\underset{(i,j)\\in[n]^2}{max}\\lvert d_T(i,j) - d_{i,j}\\rvert$.\n",
        "\n",
        "This effectively finds the closest $D'$ to the input matrix $D$ that is additive.\n",
        "\n",
        "Your task here will be to complete the function `neighbor_join` which will take an input distance matrix $D$, and construct its phylogenetic tree using the neighbor joining algorithm.\n",
        "\n",
        "The input `D` will be a list of lists. `D` will be defined on `n` leaves labelled with the integers `[0,..,n-1]` such that `D[i][j]` will be the distance between leaf `i` and leaf `j` $(i,j) \\in [n]^2$. Your function should create `n-2` additional internal vertices`[n,...,2n-3]` (for a total of $n+(n-2) = 2n-2$ vertices) corresponding to the joined leaves, and other joined clusters. The function should output an edge list `T` which will be a dict of dicts. The existence of `T[p][q]` will represent an edge in the final tree where $(p,q) \\in [2n-2]^2$, and the value of `T[p][q]` should be equal to the weight of the edge between node `p` and node `q`. Note that `T` does not have to contain a value for all `p,q`, however \n",
        "\n",
        "* If `T[p][q]` exists then its value must be the distance between the node `p` and the node `q`, and represents a single edge (not a path) between them.\n",
        "* If `T[p][q]` exists, then `T[q][p]` must also exist and it must be the case that `T[p][q] == T[q][p]`\n",
        "\n",
        "Note: The above rules mean that `T` must contain `2n-3` unique edges, or that it must have `4n-6` values.\n",
        "\n",
        "**The neighbor joining algorithm is specified here for your convenience:**\n",
        "Let `D` be an `mxm` matrix:\n",
        "* Until you have only 2 clusters, or `len(D)==2` (because NJ constructs unrooted binary trees)\n",
        "    * Compute `u_k = sum(D[k])` for all `0<=k<len(D)`\n",
        "    * Find pair of nodes `(i,j)` that minimizes `S[i][j] = (m-2)*D[i][j] - u_i -u_j`. A helper function has been given to you for this.\n",
        "    * Create a node for `[ij]` using the next unused integer in `[0,...,2n-3]`. Call it `r`.\n",
        "    * Add edges `T[i][r], T[r][i], T[j][r],` and `T[r][j]`. The distance between the leaves and their corresponding internal node is: \n",
        "        * `T[r][i] = 0.5*(D[i][j] + (u_i - u_j)/(len(D)-2))`\n",
        "        * `T[r][j] = 0.5*(D[i][j] + (u_j - u_i)/(len(D)-2))`\n",
        "    * Precompute and add new row and column in `D` for `r` with distances:\n",
        "        * `D[r][m] = 0.5*(D[i][m] + D[j][m] - D[i][j])` for all `m!=i` and `m!=j`.\n",
        "    * Now we must remove the rows and columns for `i` and `j` from `D`.\n",
        "    * Update your internal node counter.\n",
        "* There is one last edge you may need to add here (why?).\n",
        "    \n",
        "*Testing your neighbor joining function is difficult, so we have provided a testing harness that takes an input matrix, and your output tree, and sums the paths inside the tree to recover a distance matrix between the leaves. The function `check_tree` will then compare the two matrices to see if all values are equal. Obviously, if your input matrix is not additive, this will not work. The hidden tests will test ONLY additive inputs. If you are writing your own test cases, we suggest you start with a tree, compute a distance matrix, then use it to check your code.*"
      ]
    },
    {
      "cell_type": "code",
      "metadata": {
        "deletable": false,
        "nbgrader": {
          "cell_type": "code",
          "checksum": "39f77f79bbc318b7c93d7a8282e130a7",
          "grade": false,
          "grade_id": "cell-05e78c9e89626ac9",
          "locked": false,
          "schema_version": 3,
          "solution": true
        },
        "id": "5TPysiNEizLT"
      },
      "source": [
        "def check_tree(D,T):\n",
        "    \"\"\"\n",
        "    Implement floyd-warshall algorithm on the graph defined in T\n",
        "    \n",
        "    \"\"\"\n",
        "    V = len(T)\n",
        "    dT = [[float(\"inf\") for i in range(V)] for j in range(V)]\n",
        "    n = (V + 2)//2\n",
        "\n",
        "    # Length check\n",
        "    if n!=len(D):\n",
        "        return False\n",
        "    \n",
        "    # fill in existing edges\n",
        "    for k in T:\n",
        "      print(k)\n",
        "      for l in T[k]:\n",
        "          dT[k][l] = T[k][l]\n",
        "          dT[l][k] = T[l][k]\n",
        "    # fill in the diagonal elements \n",
        "    for i in range(len(dT)):\n",
        "        dT[i][i] = 0.0\n",
        "    \n",
        "    # relax edges \n",
        "    for k in range(V):\n",
        "        for i in range(V):\n",
        "            for j in range(V):\n",
        "                if dT[i][j] > dT[i][k] + dT[k][j]:\n",
        "                    dT[i][j] = dT[i][k] + dT[k][j]\n",
        "                    dT[j][i] = dT[i][j]\n",
        "    \n",
        "    for i in range(n) :\n",
        "        print(dT[i][:n])\n",
        "    # Check each value in dT\n",
        "\n",
        "    for i in range(n):\n",
        "        for j in range(n):\n",
        "            if D[i][j] != dT[i][j]:\n",
        "                return False\n",
        "    return True\n",
        "\n",
        "def min_S_value(D, u):\n",
        "    \"\"\"\n",
        "    returns the value (i,j) for which \n",
        "    (m-2)*D[i][j] - u_i - u_j is minimum\n",
        "    \"\"\"\n",
        "    m = len(D)\n",
        "    min_S, min_i, min_j = float(\"inf\"),-1,-1\n",
        "    for k in D:\n",
        "        for l in D[k]:\n",
        "            if l!=k:\n",
        "                crit = (m-2)*D[k][l] - u[k] - u[l]\n",
        "                if crit < min_S:\n",
        "                    min_S = crit\n",
        "                    min_i = k\n",
        "                    min_j = l\n",
        "    return (min_i, min_j)\n",
        "\n",
        "\n",
        "def neighbor_join(D):\n",
        "    \"\"\"\n",
        "    Takes a distance matrix D, and returns the tree T \n",
        "    consistent with the closest additive matrix D' to D.\n",
        "    \n",
        "    :param: D is a dict of dicts representing pairwise distances between leaves\n",
        "    :return: a dict of dicts that contains all the edges with their weights in the tree defined by D'.    \n",
        "    \"\"\"\n",
        "    \n",
        "    T = {}\n",
        "    r = len(D)\n",
        "    \n",
        "    for i in D:\n",
        "      T[i] = {}\n",
        "    \n",
        "    for i in D:\n",
        "      for j in D[i]:\n",
        "        if i != j:\n",
        "          T[i][j] = D[i][j]\n",
        "\n",
        "    while len(D)>2:\n",
        "      # YOUR CODE HERE\n",
        "\n",
        "      u = {}\n",
        "      for i in D:\n",
        "        u[i] = sum(D[i].values())\n",
        "\n",
        "      min_i,min_j = min_S_value(D,u)\n",
        "\n",
        "      T[r] = {}\n",
        "\n",
        "      T[r][min_i] = 0.5*(D[min_i][min_j] + (u[min_i] - u[min_j])/(len(D)-2))\n",
        "      T[min_i][r] = T[r][min_i]\n",
        "      T[r][min_j] = 0.5*(D[min_i][min_j] + (u[min_j] - u[min_i])/(len(D)-2))\n",
        "      T[min_j][r] = T[r][min_j]\n",
        "      \n",
        "      D[r] = {}\n",
        "      for m in D:\n",
        "        if m != min_i and m != min_j and m != r:\n",
        "          val = 0.5*(D[min_i][m] + D[min_j][m] - D[min_i][min_j])\n",
        "          D[r][m] = val\n",
        "          D[m][r] = D[r][m]\n",
        "\n",
        "      D[r][r] = 0\n",
        "      T[r][r] = 0\n",
        "\n",
        "      del(D[min_i])\n",
        "      del(D[min_j])\n",
        "      for x in D:\n",
        "        if min_i in D[x]:\n",
        "          del(D[x][min_i])\n",
        "        if min_j in D[x]:\n",
        "          del(D[x][min_j])\n",
        "\n",
        "      r = r+1\n",
        "\n",
        "    for i in D:\n",
        "      for j in D:\n",
        "        if D[i][j] != 0:\n",
        "          T[i][j] = D[i][j]\n",
        "          T[j][i] = D[i][j]\n",
        "\n",
        "        # raise NotImplementedError()\n",
        "    return T"
      ],
      "execution_count": 89,
      "outputs": []
    },
    {
      "cell_type": "code",
      "metadata": {
        "deletable": false,
        "editable": false,
        "nbgrader": {
          "cell_type": "code",
          "checksum": "306eae5a4fad60aa185276f87a992ee4",
          "grade": false,
          "grade_id": "cell-b5766b1b10612b6c",
          "locked": true,
          "schema_version": 3,
          "solution": false,
          "task": false
        },
        "id": "4W8nOijBizLX",
        "outputId": "10b22248-ee3f-4073-b4b3-51d8533b93be",
        "colab": {
          "base_uri": "https://localhost:8080/"
        }
      },
      "source": [
        "\n",
        "### Student tests (You may add more)\n",
        "D0 = {\n",
        "    0: {0:0,1:2,2:4},\n",
        "    1: {0:2,1:0,2:2},\n",
        "    2: {0:4,1:2,2:0}\n",
        "}\n",
        "\n",
        "D1 = {\n",
        "    0: {0:0,1:2,2:4,3:4},\n",
        "    1: {0:2,1:0,2:4,3:4},\n",
        "    2: {0:4,1:4,2:0,3:2},\n",
        "    3: {0:4,1:4,2:2,3:0}\n",
        "}\n",
        "\n",
        "nt.assert_true(check_tree(copy.deepcopy(D0), neighbor_join(D0))) \n",
        "nt.assert_true(check_tree(copy.deepcopy(D1), neighbor_join(D1))) "
      ],
      "execution_count": 90,
      "outputs": [
        {
          "output_type": "stream",
          "text": [
            "0\n",
            "1\n",
            "2\n",
            "3\n",
            "[0.0, 2, 4]\n",
            "[2, 0.0, 2]\n",
            "[4, 2, 0.0]\n",
            "0\n",
            "1\n",
            "2\n",
            "3\n",
            "4\n",
            "5\n",
            "[0.0, 2, 4, 4]\n",
            "[2, 0.0, 4, 4]\n",
            "[4, 4, 0.0, 2]\n",
            "[4, 4, 2, 0.0]\n"
          ],
          "name": "stdout"
        }
      ]
    },
    {
      "cell_type": "code",
      "metadata": {
        "deletable": false,
        "editable": false,
        "nbgrader": {
          "cell_type": "code",
          "checksum": "be6edacad19d8c65adbf7b91ff6ee8a4",
          "grade": true,
          "grade_id": "cell-c520bf3189befc49",
          "locked": true,
          "points": 10,
          "schema_version": 3,
          "solution": false,
          "task": false
        },
        "id": "HVNNQ4bhizNc"
      },
      "source": [
        "HIDDEN TEST CELL DO NOT MODIFY\n"
      ],
      "execution_count": 40,
      "outputs": []
    },
    {
      "cell_type": "code",
      "metadata": {
        "deletable": false,
        "editable": false,
        "nbgrader": {
          "cell_type": "code",
          "checksum": "72bff981f7da9231c736b7c13eb03d61",
          "grade": true,
          "grade_id": "cell-82eb706164157f63",
          "locked": true,
          "points": 10,
          "schema_version": 3,
          "solution": false
        },
        "id": "VF24iCOcizNw"
      },
      "source": [
        "# HIDDEN TEST CELL DO NOT MODIFY\n"
      ],
      "execution_count": 184,
      "outputs": []
    },
    {
      "cell_type": "markdown",
      "metadata": {
        "deletable": false,
        "editable": false,
        "nbgrader": {
          "cell_type": "markdown",
          "checksum": "3fee088c5afdc88de3f96d5448da0bf7",
          "grade": false,
          "grade_id": "cell-9b95c3ca5f2ba7f1",
          "locked": true,
          "schema_version": 3,
          "solution": false
        },
        "id": "SgZwIPvEizN0"
      },
      "source": [
        "## Part 3 - Small Maximum Parsimony Phylogeny Problem - 20 points\n",
        "\n",
        "Given an $m\\times n$ matrix $A = [a_{ij}]$ and a tree $T$ with $m$ leaves, find the assignment of character states to the internal vertices of the tree that results in the minimum parsimony score.\n",
        "\n",
        "This problem is known as the small maximum parsimony phylogeny problem. This differs from the large problem in that you are given a phylogenetic tree.\n",
        "\n",
        "The algorithm you will implement is the Sankoff Algorithm shown in detail here https://cs.brown.edu/courses/csci1950-z/slides/CSCI1950ZFall09_Lecture2.pdf. The recurrence for the algorithm is given here for your convenience.\n",
        "\n",
        "Given rooted tree $T$ whose leaves are labelled by $\\sigma:L(T)\\rightarrow\\Sigma$\n",
        "\n",
        "$$c(s,t) = \\begin{cases}\n",
        "0 & \\text{if $s=t$}\\\\\n",
        "1,& \\text{if $s\\neq t$}\n",
        "\\end{cases}$$\n",
        "\n",
        "$$\\mu(v,s) = min\\begin{cases}\n",
        "\\infty & \\text{if $v \\in L(T)$ and $s\\neq \\sigma(v)$}\\\\\n",
        "0,& \\text{if $v \\in L(T)$ and $s=\\sigma(v)$}\\\\\n",
        "\\sum_{w\\in\\delta(v)}\\min_{t\\in\\Sigma}\\{c(s,t) + \\mu(w,t)\\},& \\text{if $v\\notin L(T)$}\\\\\n",
        "\\end{cases}$$\n",
        "\n",
        "Here, $\\mu(v,s)$ is the minimum number of mutations in the subtree rooted at $v$ when assigning state $s$ to $v$, and $\\delta(v)$ is the set of children of $v$.\n",
        "\n",
        "\n",
        "Given to you is the definition `Node` of a single vertex in the tree. Most of the information is stored in the nodes themselves.\n",
        "* `Node.name` is just a way to label the nodes to make it easier to understand the structure of the tree. \n",
        "* `Node.state` is the character assigned to that node\n",
        "* `Node.leaf` is a bool indicating  whether the node is a leaf\n",
        "* `Node.root` is a bool indicating whether the node is the root of the tree\n",
        "* `Node.parent` is a reference to the parent of the current node. This will be useful for backtraces.\n",
        "* `Node.children` is a list of references to the children nodes of the current node\n",
        "* `Node.mu` is a dict that maps the possible state assignments of the node to the minimum number of mutations in the subtree rooted at this node. You will primarily be modifying this data structure.\n",
        "* `Node.min_val` stores the minimum `mu` value for that node. ** You must at least set this for the root of your tree.**\n",
        "\n",
        "Complete the function `sankoff_fill` which takes a reference to the root_node of a tree that has the states filled in for its leaves, as well as a state_alphabet (a list of all possible character states). This function does not return anything, however it modifies the `Node.mu` for all of the nodes in the tree rooted at `root_node`. You must use the recurrence shown above.\n",
        "\n",
        "Also complete the `sankoff_backtrace` function which takes a reference to the root of a filled in tree `root_node`, as well as all possible characters as a list `state alphabet`, and performs a backtrace in order to fill in the states of each node in the tree with the correct character from the state alphabet. \n",
        "\n",
        "**NOTE**: There may be more than one solution that gives you the same parsimony score. You should break ties in the order they appear in the `state alphabet`."
      ]
    },
    {
      "cell_type": "code",
      "metadata": {
        "deletable": false,
        "nbgrader": {
          "cell_type": "code",
          "checksum": "a84b3066bc1fd2318137c52c17033f5e",
          "grade": false,
          "grade_id": "cell-4f2188df15d09d22",
          "locked": false,
          "schema_version": 3,
          "solution": true
        },
        "id": "NQIkCoypizN0"
      },
      "source": [
        "class Node:\n",
        "    def __init__(self, name,  character, states_alphabet, root=False, leaf=False):\n",
        "        self.name = name\n",
        "        self.state = character\n",
        "        self.leaf = leaf\n",
        "        self.root = root\n",
        "        self.parent = None\n",
        "        self.children = []\n",
        "        self.mu = {s:float(\"inf\") for s in states_alphabet}\n",
        "        self.min_val = None\n",
        "        \n",
        "    def add_child(self, child):\n",
        "        self.children.append(child)\n",
        "        child.assign_parent(self)\n",
        "        \n",
        "    def assign_parent(self, parent):\n",
        "        self.parent = parent\n",
        "\n",
        "        \n",
        "def cost(s,t):\n",
        "    \"\"\"\n",
        "    Computes the cost of a mutation between s and t\n",
        "    \"\"\"\n",
        "    return 0 if s==t else 1\n",
        "\n",
        "\n",
        "def sankoff_fill(root_node, states_alphabet):\n",
        "    \"\"\"\n",
        "    Takes a reference to the root of a character based phylogeny tree,\n",
        "    and fills in the mu values for all nodes\n",
        "    \n",
        "    \"\"\"\n",
        "    if root_node.leaf:\n",
        "        # YOUR CODE HERE\n",
        "        for t in states_alphabet:\n",
        "          if root_node.state == t:\n",
        "            root_node.mu[t] = 0\n",
        "          else:\n",
        "            root_node.mu[t] = float('inf')\n",
        "        # raise NotImplementedError()\n",
        "    else:\n",
        "        # recurse (post order traversal)\n",
        "        for w in root_node.children:\n",
        "            sankoff_fill(w, states_alphabet)\n",
        "\n",
        "        \n",
        "        for s in states_alphabet:\n",
        "          sum = 0\n",
        "          for w in root_node.children:\n",
        "            min = float('inf')\n",
        "            for t in states_alphabet:\n",
        "              if ( cost(s, t) + w.mu[t] ) <= min:\n",
        "                min = cost(s, t) + w.mu[t]\n",
        "            sum += min\n",
        "          root_node.mu[s] = sum\n",
        "        \n",
        "        min_val = float('inf')\n",
        "        for t in states_alphabet:\n",
        "          if root_node.mu[s] <= min_val:\n",
        "            min_val = root_node.mu[s]\n",
        "        root_node.min_val = min_val\n",
        "        # post order processing of current node\n",
        "        # YOUR CODE HERE\n",
        "        # raise NotImplementedError()\n",
        "    \n",
        "def sankoff_backtrace(root_node, state_alphabet):\n",
        "    \"\"\"\n",
        "    Takes a reference to the root node of a character based phylogeny tree and \n",
        "    fills in the state values with the appropriate character. \n",
        "    \n",
        "    \"\"\"\n",
        "    # base case\n",
        "    if root_node.leaf:\n",
        "        return\n",
        "    \n",
        "    # process current node\n",
        "    if root_node.root:\n",
        "      for t in state_alphabet:\n",
        "        if root_node.min_val == root_node.mu[t]:\n",
        "          root_node.state = t\n",
        "          break\n",
        "        # YOUR CODE HERE\n",
        "        # raise NotImplementedError()\n",
        "    else:\n",
        "      if root_node.state == None:\n",
        "        flag = False\n",
        "        sum = root_node.parent.mu[root_node.parent.state]\n",
        "        child_one = root_node.parent.children[0]\n",
        "        child_two = root_node.parent.children[1]\n",
        "        for s in state_alphabet:\n",
        "          for t in state_alphabet:\n",
        "            if sum == child_one.mu[s] + child_two.mu[t]:\n",
        "              child_one.state = s \n",
        "              child_two.state = t\n",
        "              flag = True\n",
        "              break\n",
        "          if flag:\n",
        "            break\n",
        "\n",
        "        # YOUR CODE HERE\n",
        "        # raise NotImplementedError()\n",
        "    \n",
        "    # recurse\n",
        "    for w in root_node.children:\n",
        "        sankoff_backtrace(w, state_alphabet)            "
      ],
      "execution_count": 47,
      "outputs": []
    },
    {
      "cell_type": "code",
      "metadata": {
        "deletable": false,
        "editable": false,
        "nbgrader": {
          "cell_type": "code",
          "checksum": "6737c979966fc5efec779580ded4c822",
          "grade": false,
          "grade_id": "cell-80cebd4044ab449c",
          "locked": true,
          "schema_version": 3,
          "solution": false,
          "task": false
        },
        "id": "wiRHwOvlizN3"
      },
      "source": [
        "### Student tests (You may add more)\n",
        "\n",
        "alphabet = ['A', 'C', 'T', 'G']\n",
        "\n",
        "# Construct tree with nodes named 0-6 from leaves to root\n",
        "#            6\n",
        "#          /  \\\n",
        "#         4    5\n",
        "#       / \\   / \\\n",
        "#      0  1  2  3\n",
        "#      A  C  T  G\n",
        "#\n",
        "\n",
        "leaves = []\n",
        "for i,s in enumerate(['A', 'C', 'T', 'G']):\n",
        "    leaves.append(Node(i, s, alphabet, root=False, leaf=True))\n",
        "node1 = Node(4, None,alphabet,False, False)\n",
        "node1.add_child(leaves[0])\n",
        "node1.add_child(leaves[1])\n",
        "node2 = Node(5, None,alphabet,False, False)\n",
        "node2.add_child(leaves[2])\n",
        "node2.add_child(leaves[3])\n",
        "root = Node(6, None, alphabet, True, False)\n",
        "root.add_child(node1)\n",
        "root.add_child(node2)\n",
        "\n",
        "sankoff_fill(root, alphabet)\n",
        "sankoff_backtrace(root,alphabet)\n",
        "\n",
        "nt.assert_equal(root.min_val, 3)\n",
        "nt.assert_equal(root.state, 'A')\n",
        "nt.assert_equal(node1.state, 'A')\n",
        "nt.assert_equal(node2.state, 'A')"
      ],
      "execution_count": 48,
      "outputs": []
    },
    {
      "cell_type": "code",
      "metadata": {
        "deletable": false,
        "editable": false,
        "nbgrader": {
          "cell_type": "code",
          "checksum": "811f7889f30cb9910b593d755ecd2d48",
          "grade": true,
          "grade_id": "cell-8cf4995f5e3c6ad6",
          "locked": true,
          "points": 10,
          "schema_version": 3,
          "solution": false,
          "task": false
        },
        "id": "ByLPdqnHizN6"
      },
      "source": [
        "# HIDDEN TEST CELL DO NOT MODIFY\n"
      ],
      "execution_count": 49,
      "outputs": []
    },
    {
      "cell_type": "code",
      "metadata": {
        "deletable": false,
        "editable": false,
        "nbgrader": {
          "cell_type": "code",
          "checksum": "44c13faa21781c7f341cefcad2e7b5b2",
          "grade": true,
          "grade_id": "cell-6cf0b3c2e9be6578",
          "locked": true,
          "points": 10,
          "schema_version": 3,
          "solution": false
        },
        "id": "5i8_K6UQizOC"
      },
      "source": [
        "# HIDDEN TEST CELL DO NOT MODIFY\n"
      ],
      "execution_count": 50,
      "outputs": []
    },
    {
      "cell_type": "code",
      "metadata": {
        "id": "ytxPNT52V78g"
      },
      "source": [
        ""
      ],
      "execution_count": null,
      "outputs": []
    }
  ]
}